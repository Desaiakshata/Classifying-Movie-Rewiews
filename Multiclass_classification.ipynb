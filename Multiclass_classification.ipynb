{
  "nbformat": 4,
  "nbformat_minor": 0,
  "metadata": {
    "colab": {
      "name": "Multiclass_classification",
      "provenance": [],
      "collapsed_sections": []
    },
    "kernelspec": {
      "name": "python3",
      "display_name": "Python 3"
    },
    "language_info": {
      "name": "python"
    }
  },
  "cells": [
    {
      "cell_type": "code",
      "metadata": {
        "id": "4GbR0vW6a2ue"
      },
      "source": [
        "from keras.datasets import reuters\n",
        "import numpy as np"
      ],
      "execution_count": 29,
      "outputs": []
    },
    {
      "cell_type": "code",
      "metadata": {
        "colab": {
          "base_uri": "https://localhost:8080/"
        },
        "id": "BmlJGYKV1Nat",
        "outputId": "68e1a995-265a-4606-89da-cd1bbbb253f0"
      },
      "source": [
        "(train_data,train_labels),(test_data,test_labels) = reuters.load_data(num_words=10000)"
      ],
      "execution_count": 26,
      "outputs": [
        {
          "output_type": "stream",
          "text": [
            "/usr/local/lib/python3.7/dist-packages/tensorflow/python/keras/datasets/reuters.py:148: VisibleDeprecationWarning: Creating an ndarray from ragged nested sequences (which is a list-or-tuple of lists-or-tuples-or ndarrays with different lengths or shapes) is deprecated. If you meant to do this, you must specify 'dtype=object' when creating the ndarray\n",
            "  x_train, y_train = np.array(xs[:idx]), np.array(labels[:idx])\n",
            "/usr/local/lib/python3.7/dist-packages/tensorflow/python/keras/datasets/reuters.py:149: VisibleDeprecationWarning: Creating an ndarray from ragged nested sequences (which is a list-or-tuple of lists-or-tuples-or ndarrays with different lengths or shapes) is deprecated. If you meant to do this, you must specify 'dtype=object' when creating the ndarray\n",
            "  x_test, y_test = np.array(xs[idx:]), np.array(labels[idx:])\n"
          ],
          "name": "stderr"
        }
      ]
    },
    {
      "cell_type": "code",
      "metadata": {
        "id": "87F2fWzU1aHB"
      },
      "source": [
        "type(train_data)\n",
        "train_data.shape\n",
        "test_data[0:]"
      ],
      "execution_count": null,
      "outputs": []
    },
    {
      "cell_type": "code",
      "metadata": {
        "colab": {
          "base_uri": "https://localhost:8080/",
          "height": 69
        },
        "id": "LSfPckEv2C0q",
        "outputId": "7009f321-85e4-4bbd-e835-18af857c41f7"
      },
      "source": [
        "#Decoding news wires\n",
        "word_index = reuters.get_word_index()\n",
        "reverse_word_index = dict([(value, key) for (key, value) in word_index.items()])\n",
        "decoded_newswire = ' '.join([reverse_word_index.get(i - 3, '?') for i in train_data[0]])\n",
        "decoded_newswire"
      ],
      "execution_count": 28,
      "outputs": [
        {
          "output_type": "execute_result",
          "data": {
            "application/vnd.google.colaboratory.intrinsic+json": {
              "type": "string"
            },
            "text/plain": [
              "'? ? ? said as a result of its december acquisition of space co it expects earnings per share in 1987 of 1 15 to 1 30 dlrs per share up from 70 cts in 1986 the company said pretax net should rise to nine to 10 mln dlrs from six mln dlrs in 1986 and rental operation revenues to 19 to 22 mln dlrs from 12 5 mln dlrs it said cash flow per share this year should be 2 50 to three dlrs reuter 3'"
            ]
          },
          "metadata": {
            "tags": []
          },
          "execution_count": 28
        }
      ]
    },
    {
      "cell_type": "code",
      "metadata": {
        "id": "Fh3LHYio2kCR"
      },
      "source": [
        "#Vectorizing training and testing samples\n",
        "def vectorize_samples(data,dimension=10000):\n",
        "  result = np.zeros((len(data),dimension))\n",
        "  for i,j in enumerate(data):\n",
        "    result[i,j] = 1\n",
        "  return result\n",
        "\n",
        "x_train = vectorize_samples(train_data)\n",
        "x_test = vectorize_samples(test_data)"
      ],
      "execution_count": 33,
      "outputs": []
    },
    {
      "cell_type": "code",
      "metadata": {
        "id": "1CiwBT0o4gLL"
      },
      "source": [
        "#Converting labels to one hot vectors\n",
        "from keras.utils.np_utils import to_categorical\n",
        "\n",
        "y_train = to_categorical(train_labels)\n",
        "y_test = to_categorical(test_labels)"
      ],
      "execution_count": 34,
      "outputs": []
    },
    {
      "cell_type": "code",
      "metadata": {
        "id": "7kiBuBIxAPJn"
      },
      "source": [
        "#Building the network\n",
        "\n",
        "from keras import models\n",
        "from keras import layers\n",
        "\n",
        "model = models.Sequential()\n",
        "model.add(layers.Dense(128,activation='relu',input_shape=(10000,)))\n",
        "#model.add(layers.Dense(128,activation='relu')) #can use 64\n",
        "model.add(layers.Dense(128,activation='relu'))\n",
        "model.add(layers.Dense(46,activation='softmax'))\n",
        "\n",
        "model.compile(optimizer='rmsprop',\n",
        "              loss='categorical_crossentropy',\n",
        "              metrics=['accuracy'])"
      ],
      "execution_count": 62,
      "outputs": []
    },
    {
      "cell_type": "code",
      "metadata": {
        "id": "XZLm7jpOBTb2"
      },
      "source": [
        "#validation data\n",
        "x_val = x_train[:1000]\n",
        "x_train_partial = x_train[1000:]\n",
        "y_val = y_train[:1000]\n",
        "y_train_partial = y_train[1000:]"
      ],
      "execution_count": 38,
      "outputs": []
    },
    {
      "cell_type": "code",
      "metadata": {
        "id": "Cm3xMIz-F-H8"
      },
      "source": [
        "#training\n",
        "history = model.fit(x_train_partial,y_train_partial,epochs=20,batch_size=512,validation_data=(x_val,y_val))"
      ],
      "execution_count": null,
      "outputs": []
    },
    {
      "cell_type": "code",
      "metadata": {
        "colab": {
          "base_uri": "https://localhost:8080/",
          "height": 312
        },
        "id": "_5jwoq_CGa5N",
        "outputId": "4ad2fabf-19ff-4c51-8524-4cb9ecd4a5c5"
      },
      "source": [
        "import matplotlib.pyplot as plt\n",
        "loss = history.history['loss']\n",
        "val_loss = history.history['val_loss']\n",
        "epochs = range(1,len(loss)+1)\n",
        "plt.plot(epochs,loss,'ro',label='training loss')\n",
        "plt.plot(epochs,val_loss,'r',label='validation loss')\n",
        "plt.title('plot of training and validation loss')\n",
        "plt.xlabel('epochs')\n",
        "plt.ylabel('loss')\n",
        "plt.legend()"
      ],
      "execution_count": 51,
      "outputs": [
        {
          "output_type": "execute_result",
          "data": {
            "text/plain": [
              "<matplotlib.legend.Legend at 0x7ff43ecf53d0>"
            ]
          },
          "metadata": {
            "tags": []
          },
          "execution_count": 51
        },
        {
          "output_type": "display_data",
          "data": {
            "image/png": "[encoded data removed]",
            "text/plain": [
              "<Figure size 432x288 with 1 Axes>"
            ]
          },
          "metadata": {
            "tags": [],
            "needs_background": "light"
          }
        }
      ]
    },
    {
      "cell_type": "code",
      "metadata": {
        "colab": {
          "base_uri": "https://localhost:8080/",
          "height": 312
        },
        "id": "Gmc-di2rIVYi",
        "outputId": "4442f041-2dbb-4703-a915-bd1d4583a78f"
      },
      "source": [
        "acc = history.history['accuracy']\n",
        "val_acc = history.history['val_accuracy']\n",
        "epochs = range(1,len(loss)+1)\n",
        "plt.plot(epochs,acc,'ro',label='training accuracy')\n",
        "plt.plot(epochs,val_acc,'r',label='validation accuracy')\n",
        "plt.title('plot of training and validation accuracy')\n",
        "plt.xlabel('epochs')\n",
        "plt.ylabel('accuracy')\n",
        "plt.legend()"
      ],
      "execution_count": 50,
      "outputs": [
        {
          "output_type": "execute_result",
          "data": {
            "text/plain": [
              "<matplotlib.legend.Legend at 0x7ff439558690>"
            ]
          },
          "metadata": {
            "tags": []
          },
          "execution_count": 50
        },
        {
          "output_type": "display_data",
          "data": {
            "image/png": "[encoded data removed]",
            "text/plain": [
              "<Figure size 432x288 with 1 Axes>"
            ]
          },
          "metadata": {
            "tags": [],
            "needs_background": "light"
          }
        }
      ]
    },
    {
      "cell_type": "code",
      "metadata": {
        "colab": {
          "base_uri": "https://localhost:8080/"
        },
        "id": "o9x5zuxiKLLG",
        "outputId": "c162f17f-47b1-486e-fb65-c3f72c38caea"
      },
      "source": [
        "#retraining the model for 7 epochs as the loss is minimum \n",
        "hist = model.fit(x_train_partial,y_train_partial,epochs=9,batch_size=512,validation_data=(x_val,y_val))"
      ],
      "execution_count": 63,
      "outputs": [
        {
          "output_type": "stream",
          "text": [
            "Epoch 1/9\n",
            "16/16 [==============================] - 2s 91ms/step - loss: 2.8334 - accuracy: 0.3739 - val_loss: 1.4411 - val_accuracy: 0.6600\n",
            "Epoch 2/9\n",
            "16/16 [==============================] - 1s 78ms/step - loss: 1.2470 - accuracy: 0.7171 - val_loss: 1.1656 - val_accuracy: 0.7540\n",
            "Epoch 3/9\n",
            "16/16 [==============================] - 1s 78ms/step - loss: 0.8680 - accuracy: 0.8120 - val_loss: 0.9942 - val_accuracy: 0.8000\n",
            "Epoch 4/9\n",
            "16/16 [==============================] - 1s 79ms/step - loss: 0.6405 - accuracy: 0.8618 - val_loss: 0.9420 - val_accuracy: 0.7990\n",
            "Epoch 5/9\n",
            "16/16 [==============================] - 1s 76ms/step - loss: 0.4464 - accuracy: 0.8994 - val_loss: 0.8915 - val_accuracy: 0.8290\n",
            "Epoch 6/9\n",
            "16/16 [==============================] - 1s 79ms/step - loss: 0.3278 - accuracy: 0.9279 - val_loss: 0.9273 - val_accuracy: 0.8080\n",
            "Epoch 7/9\n",
            "16/16 [==============================] - 1s 78ms/step - loss: 0.2742 - accuracy: 0.9361 - val_loss: 0.9523 - val_accuracy: 0.8050\n",
            "Epoch 8/9\n",
            "16/16 [==============================] - 1s 78ms/step - loss: 0.1961 - accuracy: 0.9499 - val_loss: 0.9925 - val_accuracy: 0.7970\n",
            "Epoch 9/9\n",
            "16/16 [==============================] - 1s 77ms/step - loss: 0.1702 - accuracy: 0.9554 - val_loss: 1.0478 - val_accuracy: 0.8010\n"
          ],
          "name": "stdout"
        }
      ]
    },
    {
      "cell_type": "code",
      "metadata": {
        "colab": {
          "base_uri": "https://localhost:8080/"
        },
        "id": "A419hwdYKm-r",
        "outputId": "0b0c34bf-17d0-42e0-8b08-9c0b8ebcd867"
      },
      "source": [
        "#Using a model with 128 units inthe hidden layer gives 1% increase in accuracy than a model with 64 units\n",
        "#However increasing the number of hidden layers from 2 to 3 decreases the accuracy by 1%\n",
        "model.evaluate(x_test,y_test)"
      ],
      "execution_count": 64,
      "outputs": [
        {
          "output_type": "stream",
          "text": [
            "71/71 [==============================] - 0s 4ms/step - loss: 1.1950 - accuracy: 0.7747\n"
          ],
          "name": "stdout"
        },
        {
          "output_type": "execute_result",
          "data": {
            "text/plain": [
              "[1.1950130462646484, 0.7747105956077576]"
            ]
          },
          "metadata": {
            "tags": []
          },
          "execution_count": 64
        }
      ]
    }
  ]
}